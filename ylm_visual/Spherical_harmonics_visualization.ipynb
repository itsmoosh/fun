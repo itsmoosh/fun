{
 "cells": [
  {
   "cell_type": "markdown",
   "metadata": {},
   "source": [
    "<h1>Spherical harmonics visualization</h1>\n",
    "<p>This notebook demonstrates the use of ylm_plot for displaying spherical harmonics. For a detailed description of the available functions and their optional arguments, please read the README file.</p>\n",
    "\n",
    "<p>Use plot_r() to show how a spherical surface becomes distorted when described by spherical harmonics. This function defaults to enhancing the distortions in the spherical surface so they are easier to detect by eye. Disable this behavior by unchecking the &quot;scaling&quot; box.</p>\n",
    "<p>Use pure() to simply display a single harmonic, or a combination of harmonics.</p>\n",
    "\n",
    "<h2>How to use this notebook</h2>\n",
    "<p>Run the cells in order. Then adjust the sliders (or type in numbers) to change the represented harmonics. Pan and zoom by left- or right-clicking and dragging on the image, respectively.</p>\n",
    "<p>The displayed surface is calculated from:</p>\n",
    "<p>$r \\quad = \\quad \\mathrm{a}\\cdot Y_{00} \\quad + \\quad \\mathrm{b\\_1}\\cdot Y_{1-1} \\quad + \\quad \\mathrm{b0}\\cdot Y_{10} \\quad + \\quad \\mathrm{b1}\\cdot Y_{11} \\quad + \\quad \\dots$,</p>\n",
    "<p>with each term scaled by an appropriate factor (based on deviations from a nominal thickness shell).</p>"
   ]
  },
  {
   "cell_type": "code",
   "execution_count": 1,
   "metadata": {},
   "outputs": [],
   "source": [
    "%matplotlib notebook\n",
    "import ylm_plot\n",
    "from ipywidgets import interact"
   ]
  },
  {
   "cell_type": "markdown",
   "metadata": {},
   "source": [
    "<h1>Pure spherical harmonics</h1>"
   ]
  },
  {
   "cell_type": "code",
   "execution_count": 4,
   "metadata": {},
   "outputs": [
    {
     "data": {
      "application/vnd.jupyter.widget-view+json": {
       "model_id": "8a878f9f27e64eed82843af22951b656",
       "version_major": 2,
       "version_minor": 0
      },
      "text/plain": [
       "interactive(children=(FloatSlider(value=0.0, description='a', max=1.0), FloatSlider(value=0.0, description='b_…"
      ]
     },
     "metadata": {},
     "output_type": "display_data"
    },
    {
     "data": {
      "text/plain": [
       "<function ylm_plot.pure(a=0.0, b_1=0.0, b0=0.0, b1=0.0, c_2=0.0, c_1=0.0, c0=0.0, c1=0.0, c2=0.0, do_3d=True, save=True)>"
      ]
     },
     "execution_count": 4,
     "metadata": {},
     "output_type": "execute_result"
    }
   ],
   "source": [
    "interact(ylm_plot.pure)"
   ]
  },
  {
   "cell_type": "markdown",
   "metadata": {},
   "source": [
    "<h1>Deviations from spherical symmetry</h1>"
   ]
  },
  {
   "cell_type": "code",
   "execution_count": 3,
   "metadata": {},
   "outputs": [
    {
     "data": {
      "application/vnd.jupyter.widget-view+json": {
       "model_id": "f1a365aa58eb457ebffb752a75e170d8",
       "version_major": 2,
       "version_minor": 0
      },
      "text/plain": [
       "interactive(children=(FloatSlider(value=2634.0, description='R_km', max=7902.0, min=-2634.0), IntSlider(value=…"
      ]
     },
     "metadata": {},
     "output_type": "display_data"
    },
    {
     "data": {
      "text/plain": [
       "<function ylm_plot.plot_r(R_km=2634.0, d_shell_km=100, a=1.0, b_1=0.0, b0=0.0, b1=0.0, c_2=0.0, c_1=0.0, c0=0.0, c1=0.0, c2=0.0, scaling=True, do_3d=True, save=False, r_min=0.8)>"
      ]
     },
     "execution_count": 3,
     "metadata": {},
     "output_type": "execute_result"
    }
   ],
   "source": [
    "interact(ylm_plot.plot_r)"
   ]
  }
 ],
 "metadata": {
  "kernelspec": {
   "display_name": "Python 3",
   "language": "python",
   "name": "python3"
  },
  "language_info": {
   "codemirror_mode": {
    "name": "ipython",
    "version": 3
   },
   "file_extension": ".py",
   "mimetype": "text/x-python",
   "name": "python",
   "nbconvert_exporter": "python",
   "pygments_lexer": "ipython3",
   "version": "3.6.4"
  }
 },
 "nbformat": 4,
 "nbformat_minor": 2
}
